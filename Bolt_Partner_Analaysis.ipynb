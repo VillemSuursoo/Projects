{
 "cells": [
  {
   "cell_type": "code",
   "execution_count": 1,
   "id": "044f6798",
   "metadata": {},
   "outputs": [],
   "source": [
    "import pandas as pd\n",
    "import matplotlib.pyplot as plt"
   ]
  },
  {
   "cell_type": "code",
   "execution_count": 2,
   "id": "409e40b1",
   "metadata": {
    "scrolled": true
   },
   "outputs": [
    {
     "data": {
      "text/html": [
       "<div>\n",
       "<style scoped>\n",
       "    .dataframe tbody tr th:only-of-type {\n",
       "        vertical-align: middle;\n",
       "    }\n",
       "\n",
       "    .dataframe tbody tr th {\n",
       "        vertical-align: top;\n",
       "    }\n",
       "\n",
       "    .dataframe thead th {\n",
       "        text-align: right;\n",
       "    }\n",
       "</style>\n",
       "<table border=\"1\" class=\"dataframe\">\n",
       "  <thead>\n",
       "    <tr style=\"text-align: right;\">\n",
       "      <th></th>\n",
       "      <th>Order Created Time</th>\n",
       "      <th>Order ID</th>\n",
       "      <th>Restaurant ID</th>\n",
       "      <th>Title</th>\n",
       "      <th>Currency</th>\n",
       "      <th>Quantity</th>\n",
       "      <th>Unit Price (with VAT)</th>\n",
       "      <th>Total (without VAT)</th>\n",
       "      <th>Total (with VAT)</th>\n",
       "      <th>Bolt Service Fee</th>\n",
       "      <th>Unit Price (Without VAT)</th>\n",
       "    </tr>\n",
       "  </thead>\n",
       "  <tbody>\n",
       "    <tr>\n",
       "      <th>0</th>\n",
       "      <td>2021-12-22 12:51:05</td>\n",
       "      <td>ZZW</td>\n",
       "      <td>18269</td>\n",
       "      <td>ProductBottle</td>\n",
       "      <td>eur</td>\n",
       "      <td>1</td>\n",
       "      <td>2.49</td>\n",
       "      <td>11.33</td>\n",
       "      <td>13.58</td>\n",
       "      <td>1.13</td>\n",
       "      <td>2.08</td>\n",
       "    </tr>\n",
       "    <tr>\n",
       "      <th>1</th>\n",
       "      <td>2021-12-22 12:51:05</td>\n",
       "      <td>ZZW</td>\n",
       "      <td>18269</td>\n",
       "      <td>ProductBottle</td>\n",
       "      <td>eur</td>\n",
       "      <td>1</td>\n",
       "      <td>10.99</td>\n",
       "      <td>11.33</td>\n",
       "      <td>13.58</td>\n",
       "      <td>1.13</td>\n",
       "      <td>9.16</td>\n",
       "    </tr>\n",
       "    <tr>\n",
       "      <th>2</th>\n",
       "      <td>2021-12-22 12:51:05</td>\n",
       "      <td>ZZW</td>\n",
       "      <td>18269</td>\n",
       "      <td>Deposit</td>\n",
       "      <td>eur</td>\n",
       "      <td>1</td>\n",
       "      <td>0.10</td>\n",
       "      <td>11.33</td>\n",
       "      <td>13.58</td>\n",
       "      <td>1.13</td>\n",
       "      <td>0.10</td>\n",
       "    </tr>\n",
       "    <tr>\n",
       "      <th>3</th>\n",
       "      <td>2021-12-26 15:27:27</td>\n",
       "      <td>ZY4</td>\n",
       "      <td>18256</td>\n",
       "      <td>ProductBottle</td>\n",
       "      <td>eur</td>\n",
       "      <td>1</td>\n",
       "      <td>35.99</td>\n",
       "      <td>29.99</td>\n",
       "      <td>35.99</td>\n",
       "      <td>3.02</td>\n",
       "      <td>29.99</td>\n",
       "    </tr>\n",
       "    <tr>\n",
       "      <th>4</th>\n",
       "      <td>2021-12-28 20:05:00</td>\n",
       "      <td>ZY0</td>\n",
       "      <td>18256</td>\n",
       "      <td>ProductBottle</td>\n",
       "      <td>eur</td>\n",
       "      <td>1</td>\n",
       "      <td>8.19</td>\n",
       "      <td>6.83</td>\n",
       "      <td>8.19</td>\n",
       "      <td>0.68</td>\n",
       "      <td>6.82</td>\n",
       "    </tr>\n",
       "  </tbody>\n",
       "</table>\n",
       "</div>"
      ],
      "text/plain": [
       "    Order Created Time Order ID  Restaurant ID          Title Currency  \\\n",
       "0  2021-12-22 12:51:05      ZZW          18269  ProductBottle      eur   \n",
       "1  2021-12-22 12:51:05      ZZW          18269  ProductBottle      eur   \n",
       "2  2021-12-22 12:51:05      ZZW          18269        Deposit      eur   \n",
       "3  2021-12-26 15:27:27      ZY4          18256  ProductBottle      eur   \n",
       "4  2021-12-28 20:05:00      ZY0          18256  ProductBottle      eur   \n",
       "\n",
       "   Quantity  Unit Price (with VAT)  Total (without VAT)  Total (with VAT)  \\\n",
       "0         1                   2.49                11.33             13.58   \n",
       "1         1                  10.99                11.33             13.58   \n",
       "2         1                   0.10                11.33             13.58   \n",
       "3         1                  35.99                29.99             35.99   \n",
       "4         1                   8.19                 6.83              8.19   \n",
       "\n",
       "   Bolt Service Fee  Unit Price (Without VAT)  \n",
       "0              1.13                      2.08  \n",
       "1              1.13                      9.16  \n",
       "2              1.13                      0.10  \n",
       "3              3.02                     29.99  \n",
       "4              0.68                      6.82  "
      ]
     },
     "execution_count": 2,
     "metadata": {},
     "output_type": "execute_result"
    }
   ],
   "source": [
    "df = pd.read_csv(\"./New Commerce Specialist Task - Draft - Task 1 - Database.csv\") \n",
    "df.head(5)"
   ]
  },
  {
   "cell_type": "markdown",
   "id": "f3583381",
   "metadata": {},
   "source": [
    "### Going through the Data"
   ]
  },
  {
   "cell_type": "code",
   "execution_count": 3,
   "id": "06aa95c1",
   "metadata": {},
   "outputs": [
    {
     "data": {
      "text/plain": [
       "Order Created Time           object\n",
       "Order ID                     object\n",
       "Restaurant ID                 int64\n",
       "Title                        object\n",
       "Currency                     object\n",
       "Quantity                      int64\n",
       "Unit Price (with VAT)       float64\n",
       "Total (without VAT)         float64\n",
       "Total (with VAT)            float64\n",
       "Bolt Service Fee            float64\n",
       "Unit Price (Without VAT)    float64\n",
       "dtype: object"
      ]
     },
     "execution_count": 3,
     "metadata": {},
     "output_type": "execute_result"
    }
   ],
   "source": [
    "df.dtypes"
   ]
  },
  {
   "cell_type": "code",
   "execution_count": 4,
   "id": "04ffc96d",
   "metadata": {},
   "outputs": [
    {
     "data": {
      "text/plain": [
       "Order Created Time          0\n",
       "Order ID                    0\n",
       "Restaurant ID               0\n",
       "Title                       0\n",
       "Currency                    0\n",
       "Quantity                    0\n",
       "Unit Price (with VAT)       0\n",
       "Total (without VAT)         0\n",
       "Total (with VAT)            0\n",
       "Bolt Service Fee            0\n",
       "Unit Price (Without VAT)    0\n",
       "dtype: int64"
      ]
     },
     "execution_count": 4,
     "metadata": {},
     "output_type": "execute_result"
    }
   ],
   "source": [
    "df.isnull().sum()"
   ]
  },
  {
   "cell_type": "code",
   "execution_count": 5,
   "id": "171e2780",
   "metadata": {},
   "outputs": [
    {
     "data": {
      "text/plain": [
       "11"
      ]
     },
     "execution_count": 5,
     "metadata": {},
     "output_type": "execute_result"
    }
   ],
   "source": [
    "df['Restaurant ID'].nunique() # Identifing how many unnique Restuarants are in the dataset"
   ]
  },
  {
   "cell_type": "code",
   "execution_count": 6,
   "id": "47ed01c2",
   "metadata": {},
   "outputs": [
    {
     "name": "stdout",
     "output_type": "stream",
     "text": [
      "[0.1]\n"
     ]
    }
   ],
   "source": [
    "# Filter the dataframe to only include rows where \"Title\" is equal to \"Deposit\"\n",
    "deposit_rows = df[df[\"Title\"] == \"Deposit\"]\n",
    "\n",
    "# Get the unique values of the \"Unit Price (with VAT)\" column in the filtered dataframe\n",
    "unique_unit_prices = deposit_rows[\"Unit Price (with VAT)\"].unique()\n",
    "\n",
    "print(unique_unit_prices)"
   ]
  },
  {
   "cell_type": "markdown",
   "id": "76d8c1a6",
   "metadata": {},
   "source": [
    "We can identify that theres 11 Restaurant in this dataset and that the Deposit is always 0.1, that tells me it's most likely the Bottle recycling tax. I noticed that the dataset is 2 weeks long so I decided to split it into 2 weeks for later easier analysis."
   ]
  },
  {
   "cell_type": "code",
   "execution_count": 7,
   "id": "d93fd804",
   "metadata": {},
   "outputs": [],
   "source": [
    "df['Quantity Total'] = df[(df['Title'] == 'ProductBottle')].groupby('Order ID')['Quantity'].transform('sum')\n",
    "df.fillna(0, inplace=True)"
   ]
  },
  {
   "cell_type": "code",
   "execution_count": 8,
   "id": "11cab4ac",
   "metadata": {},
   "outputs": [],
   "source": [
    "# Convert the \"Order Created Time\" column to datetime\n",
    "df[\"Order Created Time\"] = pd.to_datetime(df[\"Order Created Time\"])\n",
    "\n",
    "# Create a new column called \"Week\"\n",
    "df[\"Week\"] = 0\n",
    "\n",
    "# Define the date ranges for week 1 and week 2\n",
    "week1_start = pd.to_datetime(\"2021-12-19\")\n",
    "week1_end = pd.to_datetime(\"2021-12-26\")\n",
    "week2_start = pd.to_datetime(\"2021-12-26\")\n",
    "week2_end = pd.to_datetime(\"2022-01-02\")\n",
    "\n",
    "# Fill in the \"Week\" column\n",
    "df.loc[(df[\"Order Created Time\"] >= week1_start) & (df[\"Order Created Time\"] <= week1_end), \"Week\"] = 1\n",
    "df.loc[(df[\"Order Created Time\"] >= week2_start) & (df[\"Order Created Time\"] <= week2_end), \"Week\"] = 2\n"
   ]
  },
  {
   "cell_type": "code",
   "execution_count": 9,
   "id": "86fb1e4c",
   "metadata": {},
   "outputs": [
    {
     "data": {
      "text/plain": [
       "array([1, 2])"
      ]
     },
     "execution_count": 9,
     "metadata": {},
     "output_type": "execute_result"
    }
   ],
   "source": [
    "df['Week'].unique()"
   ]
  },
  {
   "cell_type": "code",
   "execution_count": 10,
   "id": "8ddcbb4f",
   "metadata": {},
   "outputs": [],
   "source": [
    "df['Day of Week'] = df['Order Created Time'].dt.day_name()"
   ]
  },
  {
   "cell_type": "code",
   "execution_count": 11,
   "id": "eec063c6",
   "metadata": {},
   "outputs": [],
   "source": [
    "# Define the bin edges for the 'DayTime' column\n",
    "bin_edges = [0, 6, 12, 18, 24]\n",
    "\n",
    "# Define the labels for the 'DayTime' column\n",
    "bin_labels = [\"Night\", \"Morning\", \"Afternoon\", \"Evening\"]\n",
    "\n",
    "# Extract the hour from the datetime column\n",
    "df['Hour'] = df['Order Created Time'].dt.hour\n",
    "\n",
    "# Create the 'DayTime' column based on the hour of the day\n",
    "df['DayTime'] = pd.cut(df['Hour'], bins=bin_edges, labels=bin_labels, right=False)\n",
    "\n",
    "df = df.drop(columns=['Hour'])\n",
    "\n"
   ]
  },
  {
   "cell_type": "code",
   "execution_count": 12,
   "id": "de17a68c",
   "metadata": {},
   "outputs": [
    {
     "data": {
      "image/png": "[encoded data removed]",
      "text/plain": [
       "<Figure size 432x288 with 1 Axes>"
      ]
     },
     "metadata": {
      "needs_background": "light"
     },
     "output_type": "display_data"
    }
   ],
   "source": [
    "## Total units sold for every Restaurant\n",
    "grouped_df = df[df['Title'] == 'ProductBottle'].groupby('Restaurant ID')['Quantity'].sum()\n",
    "\n",
    "grouped_df.plot(kind='bar')\n",
    "plt.xlabel(\"Restaurant ID\")\n",
    "plt.ylabel(\"Quantity\")\n",
    "plt.title(\" Total'ProductBottle Sales'\")\n",
    "plt.show()\n"
   ]
  },
  {
   "cell_type": "code",
   "execution_count": 13,
   "id": "70e237a8",
   "metadata": {},
   "outputs": [
    {
     "data": {
      "text/html": [
       "<div>\n",
       "<style scoped>\n",
       "    .dataframe tbody tr th:only-of-type {\n",
       "        vertical-align: middle;\n",
       "    }\n",
       "\n",
       "    .dataframe tbody tr th {\n",
       "        vertical-align: top;\n",
       "    }\n",
       "\n",
       "    .dataframe thead th {\n",
       "        text-align: right;\n",
       "    }\n",
       "</style>\n",
       "<table border=\"1\" class=\"dataframe\">\n",
       "  <thead>\n",
       "    <tr style=\"text-align: right;\">\n",
       "      <th></th>\n",
       "      <th>Order Created Time</th>\n",
       "      <th>Order ID</th>\n",
       "      <th>Restaurant ID</th>\n",
       "      <th>Title</th>\n",
       "      <th>Currency</th>\n",
       "      <th>Quantity</th>\n",
       "      <th>Unit Price (with VAT)</th>\n",
       "      <th>Total (without VAT)</th>\n",
       "      <th>Total (with VAT)</th>\n",
       "      <th>Bolt Service Fee</th>\n",
       "      <th>Unit Price (Without VAT)</th>\n",
       "      <th>Quantity Total</th>\n",
       "      <th>Week</th>\n",
       "      <th>Day of Week</th>\n",
       "      <th>DayTime</th>\n",
       "    </tr>\n",
       "  </thead>\n",
       "  <tbody>\n",
       "    <tr>\n",
       "      <th>0</th>\n",
       "      <td>2021-12-22 12:51:05</td>\n",
       "      <td>ZZW</td>\n",
       "      <td>18269</td>\n",
       "      <td>ProductBottle</td>\n",
       "      <td>eur</td>\n",
       "      <td>1</td>\n",
       "      <td>2.49</td>\n",
       "      <td>11.33</td>\n",
       "      <td>13.58</td>\n",
       "      <td>1.13</td>\n",
       "      <td>2.08</td>\n",
       "      <td>2.0</td>\n",
       "      <td>1</td>\n",
       "      <td>Wednesday</td>\n",
       "      <td>Afternoon</td>\n",
       "    </tr>\n",
       "    <tr>\n",
       "      <th>3</th>\n",
       "      <td>2021-12-26 15:27:27</td>\n",
       "      <td>ZY4</td>\n",
       "      <td>18256</td>\n",
       "      <td>ProductBottle</td>\n",
       "      <td>eur</td>\n",
       "      <td>1</td>\n",
       "      <td>35.99</td>\n",
       "      <td>29.99</td>\n",
       "      <td>35.99</td>\n",
       "      <td>3.02</td>\n",
       "      <td>29.99</td>\n",
       "      <td>1.0</td>\n",
       "      <td>2</td>\n",
       "      <td>Sunday</td>\n",
       "      <td>Afternoon</td>\n",
       "    </tr>\n",
       "    <tr>\n",
       "      <th>4</th>\n",
       "      <td>2021-12-28 20:05:00</td>\n",
       "      <td>ZY0</td>\n",
       "      <td>18256</td>\n",
       "      <td>ProductBottle</td>\n",
       "      <td>eur</td>\n",
       "      <td>1</td>\n",
       "      <td>8.19</td>\n",
       "      <td>6.83</td>\n",
       "      <td>8.19</td>\n",
       "      <td>0.68</td>\n",
       "      <td>6.82</td>\n",
       "      <td>1.0</td>\n",
       "      <td>2</td>\n",
       "      <td>Tuesday</td>\n",
       "      <td>Evening</td>\n",
       "    </tr>\n",
       "    <tr>\n",
       "      <th>5</th>\n",
       "      <td>2021-12-22 20:42:22</td>\n",
       "      <td>ZU0</td>\n",
       "      <td>19983</td>\n",
       "      <td>Deposit</td>\n",
       "      <td>eur</td>\n",
       "      <td>1</td>\n",
       "      <td>0.10</td>\n",
       "      <td>20.26</td>\n",
       "      <td>24.25</td>\n",
       "      <td>1.44</td>\n",
       "      <td>0.10</td>\n",
       "      <td>0.0</td>\n",
       "      <td>1</td>\n",
       "      <td>Wednesday</td>\n",
       "      <td>Evening</td>\n",
       "    </tr>\n",
       "    <tr>\n",
       "      <th>10</th>\n",
       "      <td>2021-12-26 18:01:48</td>\n",
       "      <td>ZTX</td>\n",
       "      <td>18265</td>\n",
       "      <td>ProductBottle</td>\n",
       "      <td>eur</td>\n",
       "      <td>1</td>\n",
       "      <td>6.99</td>\n",
       "      <td>5.83</td>\n",
       "      <td>6.99</td>\n",
       "      <td>0.59</td>\n",
       "      <td>5.83</td>\n",
       "      <td>1.0</td>\n",
       "      <td>2</td>\n",
       "      <td>Sunday</td>\n",
       "      <td>Evening</td>\n",
       "    </tr>\n",
       "  </tbody>\n",
       "</table>\n",
       "</div>"
      ],
      "text/plain": [
       "    Order Created Time Order ID  Restaurant ID          Title Currency  \\\n",
       "0  2021-12-22 12:51:05      ZZW          18269  ProductBottle      eur   \n",
       "3  2021-12-26 15:27:27      ZY4          18256  ProductBottle      eur   \n",
       "4  2021-12-28 20:05:00      ZY0          18256  ProductBottle      eur   \n",
       "5  2021-12-22 20:42:22      ZU0          19983        Deposit      eur   \n",
       "10 2021-12-26 18:01:48      ZTX          18265  ProductBottle      eur   \n",
       "\n",
       "    Quantity  Unit Price (with VAT)  Total (without VAT)  Total (with VAT)  \\\n",
       "0          1                   2.49                11.33             13.58   \n",
       "3          1                  35.99                29.99             35.99   \n",
       "4          1                   8.19                 6.83              8.19   \n",
       "5          1                   0.10                20.26             24.25   \n",
       "10         1                   6.99                 5.83              6.99   \n",
       "\n",
       "    Bolt Service Fee  Unit Price (Without VAT)  Quantity Total  Week  \\\n",
       "0               1.13                      2.08             2.0     1   \n",
       "3               3.02                     29.99             1.0     2   \n",
       "4               0.68                      6.82             1.0     2   \n",
       "5               1.44                      0.10             0.0     1   \n",
       "10              0.59                      5.83             1.0     2   \n",
       "\n",
       "   Day of Week    DayTime  \n",
       "0    Wednesday  Afternoon  \n",
       "3       Sunday  Afternoon  \n",
       "4      Tuesday    Evening  \n",
       "5    Wednesday    Evening  \n",
       "10      Sunday    Evening  "
      ]
     },
     "execution_count": 13,
     "metadata": {},
     "output_type": "execute_result"
    }
   ],
   "source": [
    "df = df.drop_duplicates(subset='Order ID')\n",
    "df.head(5)"
   ]
  },
  {
   "cell_type": "markdown",
   "id": "e08a36fa",
   "metadata": {},
   "source": [
    "This barchart shows the Quanitity of products each Restaurant has sold for the past 2 weeks."
   ]
  },
  {
   "cell_type": "code",
   "execution_count": 14,
   "id": "60cbb1c2",
   "metadata": {},
   "outputs": [
    {
     "data": {
      "text/plain": [
       "Restaurant ID\n",
       "18250     7.564173\n",
       "18256     9.288654\n",
       "18265     6.825271\n",
       "18269     6.734167\n",
       "18270     9.468114\n",
       "19981     9.184952\n",
       "19982     8.327818\n",
       "19983     6.589549\n",
       "19984     7.350378\n",
       "19985    10.248594\n",
       "34221     9.603235\n",
       "dtype: float64"
      ]
     },
     "execution_count": 14,
     "metadata": {},
     "output_type": "execute_result"
    }
   ],
   "source": [
    "#Average basket value for each Restaurant\n",
    "df.groupby('Restaurant ID').apply(lambda x: x['Total (with VAT)'].sum() / x['Quantity Total'].sum())"
   ]
  },
  {
   "cell_type": "code",
   "execution_count": 15,
   "id": "7303adb8",
   "metadata": {},
   "outputs": [
    {
     "name": "stdout",
     "output_type": "stream",
     "text": [
      "Restaurant ID\n",
      "18250    26.68\n",
      "18256    38.82\n",
      "18265    22.11\n",
      "18269    24.86\n",
      "18270    24.81\n",
      "19981    25.47\n",
      "19982    35.23\n",
      "19983    26.89\n",
      "19984    22.75\n",
      "19985    22.88\n",
      "34221    25.12\n",
      "dtype: float64\n"
     ]
    }
   ],
   "source": [
    "#Average basket value devided by total order count\n",
    "result = df.groupby('Restaurant ID').apply(lambda x: x['Total (with VAT)'].sum() / len(x['Order ID'].unique()))\n",
    "result = result.round(2)\n",
    "print(result)"
   ]
  },
  {
   "cell_type": "markdown",
   "id": "c65af2b2",
   "metadata": {},
   "source": [
    "Finding the average basket value for every Restaurant."
   ]
  },
  {
   "cell_type": "code",
   "execution_count": 16,
   "id": "2364777d",
   "metadata": {},
   "outputs": [
    {
     "name": "stdout",
     "output_type": "stream",
     "text": [
      "GMV: 29839.4\n"
     ]
    }
   ],
   "source": [
    "# 1.1 Total GMV\n",
    "gmv = df[\"Total (with VAT)\"].sum()\n",
    "print(\"GMV:\", gmv)\n"
   ]
  },
  {
   "cell_type": "code",
   "execution_count": 17,
   "id": "bba176f2",
   "metadata": {},
   "outputs": [
    {
     "name": "stdout",
     "output_type": "stream",
     "text": [
      "Restaurant ID\n",
      "18250     7.564173\n",
      "18256     9.288654\n",
      "18265     6.825271\n",
      "18269     6.734167\n",
      "18270     9.468114\n",
      "19981     9.184952\n",
      "19982     8.327818\n",
      "19983     6.589549\n",
      "19984     7.350378\n",
      "19985    10.248594\n",
      "34221     9.603235\n",
      "dtype: float64\n"
     ]
    }
   ],
   "source": [
    "# Earnings per Quantity\n",
    "result = df.groupby('Restaurant ID')['Total (with VAT)'].sum() / df.groupby('Restaurant ID')['Quantity Total'].sum()\n",
    "print(result)"
   ]
  },
  {
   "cell_type": "code",
   "execution_count": 18,
   "id": "0819a1c3",
   "metadata": {},
   "outputs": [
    {
     "data": {
      "image/png": "[encoded data removed]",
      "text/plain": [
       "<Figure size 432x288 with 1 Axes>"
      ]
     },
     "metadata": {
      "needs_background": "light"
     },
     "output_type": "display_data"
    }
   ],
   "source": [
    "# 1.2 Total GMV at Restaurant level\n",
    "# Filter the data by 'Week' 1 and 'Week' 2\n",
    "df = df[(df['Week'] == 1) | (df['Week'] == 2)]\n",
    "\n",
    "# Group the data by 'Restaurant ID' and sum the 'Total (with VAT)' column\n",
    "grouped_data = df.groupby('Restaurant ID')['Total (with VAT)'].sum()\n",
    "\n",
    "# Create a bar chart comparing the GMV 'Total (with VAT)' for each unique 'Restaurant ID'\n",
    "ax = grouped_data.plot(kind='bar')\n",
    "plt.xlabel('Restaurant ID')\n",
    "plt.ylabel('Total (with VAT)')\n",
    "plt.title('GMV for each Restaurant ID')\n",
    "\n",
    "# Loop through each bar and annotate with the value\n",
    "for i, v in enumerate(grouped_data):\n",
    "    ax.text(i, v, str(round(v, 2)))\n",
    "\n",
    "plt.show()"
   ]
  },
  {
   "cell_type": "code",
   "execution_count": 19,
   "id": "dc2a5596",
   "metadata": {},
   "outputs": [
    {
     "data": {
      "image/png": "[encoded data removed]",
      "text/plain": [
       "<Figure size 720x360 with 1 Axes>"
      ]
     },
     "metadata": {
      "needs_background": "light"
     },
     "output_type": "display_data"
    }
   ],
   "source": [
    "# 1.4 GMV at day of week level overall\n",
    "# Convert the Order Created Time column to a datetime type\n",
    "df['Order Created Time'] = pd.to_datetime(df['Order Created Time'])\n",
    "\n",
    "# Extract the date from the Order Created Time column\n",
    "df['Date'] = df['Order Created Time'].dt.date\n",
    "\n",
    "# Group the data by date and sum the values in the Total (with VAT) column\n",
    "grouped = df.groupby('Date')['Total (with VAT)'].sum()\n",
    "\n",
    "# Plot the result as a bar chart\n",
    "grouped.plot(kind='bar', figsize=(10,5))\n",
    "plt.xlabel('Order Created Time')\n",
    "plt.ylabel('Total (with VAT)')\n",
    "plt.title('GMV for each day')\n",
    "\n",
    "# Show the plot\n",
    "plt.show()\n"
   ]
  },
  {
   "cell_type": "markdown",
   "id": "04bb599d",
   "metadata": {},
   "source": [
    "We know that partners total gross merchandise volume is 29839.4 eur, and the best performing Restaurant is 18256. On 1. January there is a significant drop."
   ]
  },
  {
   "cell_type": "code",
   "execution_count": 20,
   "id": "d3c5cca9",
   "metadata": {},
   "outputs": [
    {
     "name": "stdout",
     "output_type": "stream",
     "text": [
      "Total Orders: 1080\n"
     ]
    }
   ],
   "source": [
    "#2.1 Total Order counts\n",
    "# Total Order counts\n",
    "order_frequency = df[\"Order ID\"].nunique()\n",
    "print(\"Total Orders:\", order_frequency)"
   ]
  },
  {
   "cell_type": "code",
   "execution_count": 21,
   "id": "4bab162d",
   "metadata": {},
   "outputs": [
    {
     "name": "stdout",
     "output_type": "stream",
     "text": [
      "\n",
      "Order Frequency:\n",
      "Restaurant ID\n",
      "18250     36\n",
      "18256    256\n",
      "18265    188\n",
      "18269     13\n",
      "18270     87\n",
      "19981     75\n",
      "19982     13\n",
      "19983    125\n",
      "19984    188\n",
      "19985     86\n",
      "34221     13\n",
      "Name: Order ID, dtype: int64\n"
     ]
    },
    {
     "data": {
      "image/png": "[encoded data removed]",
      "text/plain": [
       "<Figure size 432x288 with 1 Axes>"
      ]
     },
     "metadata": {
      "needs_background": "light"
     },
     "output_type": "display_data"
    }
   ],
   "source": [
    "#2.2 Total Order each restaurants\n",
    "# Calculate the order frequency\n",
    "order_frequency = df.groupby('Restaurant ID')['Order ID'].nunique()\n",
    "print(\"\\nOrder Frequency:\")\n",
    "print(order_frequency)\n",
    "\n",
    "# count number of orders for each restaurant ID\n",
    "order_counts = df['Restaurant ID'].value_counts()\n",
    "\n",
    "# plot column chart\n",
    "order_counts.plot(kind='bar')\n",
    "\n",
    "# add labels and title to chart\n",
    "plt.xlabel('Restaurant ID')\n",
    "plt.ylabel('Orders amount')\n",
    "plt.title('Total Orders for each Restaurant')\n",
    "\n",
    "# show chart\n",
    "plt.show()"
   ]
  },
  {
   "cell_type": "code",
   "execution_count": 22,
   "id": "5927a96a",
   "metadata": {},
   "outputs": [
    {
     "data": {
      "image/png": "[encoded data removed]",
      "text/plain": [
       "<Figure size 432x288 with 1 Axes>"
      ]
     },
     "metadata": {
      "needs_background": "light"
     },
     "output_type": "display_data"
    }
   ],
   "source": [
    "#2.3 Order at week level \n",
    "week_counts = df['Week'].value_counts()\n",
    "week_counts.plot(kind='bar')\n",
    "plt.xlabel('Week')\n",
    "plt.ylabel('Counts')\n",
    "plt.title('Week Value Counts')\n",
    "\n",
    "for i, v in enumerate(week_counts):\n",
    "    plt.text(x=i, y=v+0.5, s=v, ha='center')\n",
    "\n",
    "plt.show()"
   ]
  },
  {
   "cell_type": "code",
   "execution_count": 23,
   "id": "1ed6fb30",
   "metadata": {},
   "outputs": [
    {
     "data": {
      "image/png": "[encoded data removed]",
      "text/plain": [
       "<Figure size 432x288 with 1 Axes>"
      ]
     },
     "metadata": {
      "needs_background": "light"
     },
     "output_type": "display_data"
    }
   ],
   "source": [
    "## 2.4 Order at day of week level\n",
    "# Extract the date from the Order Created Time column\n",
    "df['Date'] = df['Order Created Time'].dt.date\n",
    "\n",
    "# Group by day and sum the total amount of orders for each day\n",
    "df_grouped = df.groupby('Date').size().reset_index(name='Total Orders')\n",
    "\n",
    "# Plot the total number of orders by day using a bar chart\n",
    "plt.bar(df_grouped['Date'], df_grouped['Total Orders'])\n",
    "plt.xlabel('Date')\n",
    "plt.ylabel('Total Number of Orders')\n",
    "plt.title('Total Number of Orders by Day')\n",
    "plt.xticks(rotation=90)\n",
    "plt.show()\n"
   ]
  },
  {
   "cell_type": "markdown",
   "id": "3bf974a9",
   "metadata": {},
   "source": [
    "All Resturants combined have made a total of 1080 orders, Restaurant 18256 with 256 (most) Orders and 34221 with only 13 orders. (my assumption that some Restaurant were closed on the holidays)"
   ]
  },
  {
   "cell_type": "code",
   "execution_count": 24,
   "id": "0e26c642",
   "metadata": {},
   "outputs": [
    {
     "name": "stdout",
     "output_type": "stream",
     "text": [
      "Partner Expneses Total: 2331.16\n"
     ]
    }
   ],
   "source": [
    "#4.1 Partner expenses total\n",
    "service_fee = df[\"Bolt Service Fee\"].sum()\n",
    "print(\"Partner Expneses Total:\", service_fee)"
   ]
  },
  {
   "cell_type": "code",
   "execution_count": 25,
   "id": "70539fa0",
   "metadata": {},
   "outputs": [
    {
     "name": "stdout",
     "output_type": "stream",
     "text": [
      "\n",
      "Expenses for each Restaurant:\n",
      "Restaurant ID\n",
      "18250     76.37\n",
      "18256    786.85\n",
      "18265    313.77\n",
      "18269     26.99\n",
      "18270    168.79\n",
      "19981    146.34\n",
      "19982     35.41\n",
      "19983    258.65\n",
      "19984    341.50\n",
      "19985    149.07\n",
      "34221     27.42\n",
      "Name: Bolt Service Fee, dtype: float64\n"
     ]
    }
   ],
   "source": [
    "#4.2 Expenses each restaurants total\n",
    "service_fee = df.groupby('Restaurant ID')['Bolt Service Fee'].sum()\n",
    "print(\"\\nExpenses for each Restaurant:\")\n",
    "print(service_fee)"
   ]
  },
  {
   "cell_type": "code",
   "execution_count": 26,
   "id": "24cf1024",
   "metadata": {},
   "outputs": [
    {
     "name": "stdout",
     "output_type": "stream",
     "text": [
      "2.158481481481479\n"
     ]
    }
   ],
   "source": [
    "# 4.3 Avarage Commision cost\n",
    "avg = df['Bolt Service Fee'].mean()\n",
    "print(avg)"
   ]
  },
  {
   "cell_type": "code",
   "execution_count": 27,
   "id": "de0cab73",
   "metadata": {},
   "outputs": [
    {
     "name": "stdout",
     "output_type": "stream",
     "text": [
      "Restaurant ID\n",
      "18250    0.601339\n",
      "18256    0.735374\n",
      "18265    0.515222\n",
      "18269    0.562292\n",
      "18270    0.740307\n",
      "19981    0.703558\n",
      "19982    0.643818\n",
      "19983    0.507157\n",
      "19984    0.586770\n",
      "19985    0.776406\n",
      "34221    0.806471\n",
      "dtype: float64\n"
     ]
    }
   ],
   "source": [
    "# Bolt fee per Quantity\n",
    "result = df.groupby(\"Restaurant ID\")[\"Bolt Service Fee\"].sum() / df.groupby(\"Restaurant ID\")[\"Quantity Total\"].sum()\n",
    "print(result)"
   ]
  },
  {
   "cell_type": "code",
   "execution_count": 28,
   "id": "7c348c73",
   "metadata": {},
   "outputs": [
    {
     "name": "stdout",
     "output_type": "stream",
     "text": [
      "Restaurant ID\n",
      "18250    2.12\n",
      "18256    3.07\n",
      "18265    1.67\n",
      "18269    2.08\n",
      "18270    1.94\n",
      "19981    1.95\n",
      "19982    2.72\n",
      "19983    2.07\n",
      "19984    1.82\n",
      "19985    1.73\n",
      "34221    2.11\n",
      "Name: Bolt Service Fee, dtype: float64\n"
     ]
    }
   ],
   "source": [
    "# Average Bolt Commission per order\n",
    "result = df.groupby(\"Restaurant ID\")[\"Bolt Service Fee\"].mean()\n",
    "result = result.round(2)\n",
    "print(result)"
   ]
  },
  {
   "cell_type": "code",
   "execution_count": 29,
   "id": "f9ebf6b6",
   "metadata": {},
   "outputs": [
    {
     "data": {
      "text/html": [
       "<div>\n",
       "<style scoped>\n",
       "    .dataframe tbody tr th:only-of-type {\n",
       "        vertical-align: middle;\n",
       "    }\n",
       "\n",
       "    .dataframe tbody tr th {\n",
       "        vertical-align: top;\n",
       "    }\n",
       "\n",
       "    .dataframe thead th {\n",
       "        text-align: right;\n",
       "    }\n",
       "</style>\n",
       "<table border=\"1\" class=\"dataframe\">\n",
       "  <thead>\n",
       "    <tr style=\"text-align: right;\">\n",
       "      <th></th>\n",
       "      <th>Order Created Time</th>\n",
       "      <th>Order ID</th>\n",
       "      <th>Restaurant ID</th>\n",
       "      <th>Title</th>\n",
       "      <th>Currency</th>\n",
       "      <th>Quantity</th>\n",
       "      <th>Unit Price (with VAT)</th>\n",
       "      <th>Total (without VAT)</th>\n",
       "      <th>Total (with VAT)</th>\n",
       "      <th>Bolt Service Fee</th>\n",
       "      <th>Unit Price (Without VAT)</th>\n",
       "      <th>Quantity Total</th>\n",
       "      <th>Week</th>\n",
       "      <th>Day of Week</th>\n",
       "      <th>DayTime</th>\n",
       "      <th>Date</th>\n",
       "    </tr>\n",
       "  </thead>\n",
       "  <tbody>\n",
       "    <tr>\n",
       "      <th>0</th>\n",
       "      <td>2021-12-22 12:51:05</td>\n",
       "      <td>ZZW</td>\n",
       "      <td>18269</td>\n",
       "      <td>ProductBottle</td>\n",
       "      <td>eur</td>\n",
       "      <td>1</td>\n",
       "      <td>2.49</td>\n",
       "      <td>11.33</td>\n",
       "      <td>13.58</td>\n",
       "      <td>1.13</td>\n",
       "      <td>2.08</td>\n",
       "      <td>2.0</td>\n",
       "      <td>1</td>\n",
       "      <td>Wednesday</td>\n",
       "      <td>Afternoon</td>\n",
       "      <td>2021-12-22</td>\n",
       "    </tr>\n",
       "    <tr>\n",
       "      <th>3</th>\n",
       "      <td>2021-12-26 15:27:27</td>\n",
       "      <td>ZY4</td>\n",
       "      <td>18256</td>\n",
       "      <td>ProductBottle</td>\n",
       "      <td>eur</td>\n",
       "      <td>1</td>\n",
       "      <td>35.99</td>\n",
       "      <td>29.99</td>\n",
       "      <td>35.99</td>\n",
       "      <td>3.02</td>\n",
       "      <td>29.99</td>\n",
       "      <td>1.0</td>\n",
       "      <td>2</td>\n",
       "      <td>Sunday</td>\n",
       "      <td>Afternoon</td>\n",
       "      <td>2021-12-26</td>\n",
       "    </tr>\n",
       "    <tr>\n",
       "      <th>4</th>\n",
       "      <td>2021-12-28 20:05:00</td>\n",
       "      <td>ZY0</td>\n",
       "      <td>18256</td>\n",
       "      <td>ProductBottle</td>\n",
       "      <td>eur</td>\n",
       "      <td>1</td>\n",
       "      <td>8.19</td>\n",
       "      <td>6.83</td>\n",
       "      <td>8.19</td>\n",
       "      <td>0.68</td>\n",
       "      <td>6.82</td>\n",
       "      <td>1.0</td>\n",
       "      <td>2</td>\n",
       "      <td>Tuesday</td>\n",
       "      <td>Evening</td>\n",
       "      <td>2021-12-28</td>\n",
       "    </tr>\n",
       "    <tr>\n",
       "      <th>5</th>\n",
       "      <td>2021-12-22 20:42:22</td>\n",
       "      <td>ZU0</td>\n",
       "      <td>19983</td>\n",
       "      <td>Deposit</td>\n",
       "      <td>eur</td>\n",
       "      <td>1</td>\n",
       "      <td>0.10</td>\n",
       "      <td>20.26</td>\n",
       "      <td>24.25</td>\n",
       "      <td>1.44</td>\n",
       "      <td>0.10</td>\n",
       "      <td>0.0</td>\n",
       "      <td>1</td>\n",
       "      <td>Wednesday</td>\n",
       "      <td>Evening</td>\n",
       "      <td>2021-12-22</td>\n",
       "    </tr>\n",
       "    <tr>\n",
       "      <th>10</th>\n",
       "      <td>2021-12-26 18:01:48</td>\n",
       "      <td>ZTX</td>\n",
       "      <td>18265</td>\n",
       "      <td>ProductBottle</td>\n",
       "      <td>eur</td>\n",
       "      <td>1</td>\n",
       "      <td>6.99</td>\n",
       "      <td>5.83</td>\n",
       "      <td>6.99</td>\n",
       "      <td>0.59</td>\n",
       "      <td>5.83</td>\n",
       "      <td>1.0</td>\n",
       "      <td>2</td>\n",
       "      <td>Sunday</td>\n",
       "      <td>Evening</td>\n",
       "      <td>2021-12-26</td>\n",
       "    </tr>\n",
       "  </tbody>\n",
       "</table>\n",
       "</div>"
      ],
      "text/plain": [
       "    Order Created Time Order ID  Restaurant ID          Title Currency  \\\n",
       "0  2021-12-22 12:51:05      ZZW          18269  ProductBottle      eur   \n",
       "3  2021-12-26 15:27:27      ZY4          18256  ProductBottle      eur   \n",
       "4  2021-12-28 20:05:00      ZY0          18256  ProductBottle      eur   \n",
       "5  2021-12-22 20:42:22      ZU0          19983        Deposit      eur   \n",
       "10 2021-12-26 18:01:48      ZTX          18265  ProductBottle      eur   \n",
       "\n",
       "    Quantity  Unit Price (with VAT)  Total (without VAT)  Total (with VAT)  \\\n",
       "0          1                   2.49                11.33             13.58   \n",
       "3          1                  35.99                29.99             35.99   \n",
       "4          1                   8.19                 6.83              8.19   \n",
       "5          1                   0.10                20.26             24.25   \n",
       "10         1                   6.99                 5.83              6.99   \n",
       "\n",
       "    Bolt Service Fee  Unit Price (Without VAT)  Quantity Total  Week  \\\n",
       "0               1.13                      2.08             2.0     1   \n",
       "3               3.02                     29.99             1.0     2   \n",
       "4               0.68                      6.82             1.0     2   \n",
       "5               1.44                      0.10             0.0     1   \n",
       "10              0.59                      5.83             1.0     2   \n",
       "\n",
       "   Day of Week    DayTime        Date  \n",
       "0    Wednesday  Afternoon  2021-12-22  \n",
       "3       Sunday  Afternoon  2021-12-26  \n",
       "4      Tuesday    Evening  2021-12-28  \n",
       "5    Wednesday    Evening  2021-12-22  \n",
       "10      Sunday    Evening  2021-12-26  "
      ]
     },
     "execution_count": 29,
     "metadata": {},
     "output_type": "execute_result"
    }
   ],
   "source": [
    "df.head(5)"
   ]
  },
  {
   "cell_type": "code",
   "execution_count": 30,
   "id": "c94b49c1",
   "metadata": {},
   "outputs": [
    {
     "data": {
      "image/png": "[encoded data removed]",
      "text/plain": [
       "<Figure size 432x288 with 1 Axes>"
      ]
     },
     "metadata": {
      "needs_background": "light"
     },
     "output_type": "display_data"
    }
   ],
   "source": [
    "# count number of orders for each DayTime\n",
    "order_counts = df['DayTime'].value_counts()\n",
    "\n",
    "# plot column chart\n",
    "order_counts.plot(kind='bar')\n",
    "\n",
    "# add labels and title to chart\n",
    "plt.xlabel('DayTime')\n",
    "plt.ylabel('Total')\n",
    "plt.title('DayTime of the Order')\n",
    "\n",
    "for i, v in enumerate(order_counts):\n",
    "    plt.text(i, v, str(v), ha='center')\n",
    "\n",
    "plt.show()"
   ]
  },
  {
   "cell_type": "code",
   "execution_count": 31,
   "id": "b8759862",
   "metadata": {},
   "outputs": [
    {
     "name": "stdout",
     "output_type": "stream",
     "text": [
      "  Day of Week  Count of Order ID Sum of Total (with VAT)  \\\n",
      "3      Sunday                148               €4,456.57   \n",
      "1      Monday                124               €3,537.51   \n",
      "5     Tuesday                132               €3,889.41   \n",
      "6   Wednesday                169               €4,784.50   \n",
      "4    Thursday                183               €5,203.57   \n",
      "0      Friday                161               €4,530.01   \n",
      "2    Saturday                163               €3,437.83   \n",
      "\n",
      "  Sum of Bolt Service Fee Bolt commission per order  \n",
      "3                 €354.43                     €2.39  \n",
      "1                 €288.63                     €2.33  \n",
      "5                 €313.21                     €2.37  \n",
      "6                 €366.01                     €2.17  \n",
      "4                 €380.05                     €2.08  \n",
      "0                 €351.14                     €2.18  \n",
      "2                 €277.69                     €1.70  \n"
     ]
    }
   ],
   "source": [
    "# Creating a Table\n",
    "grouped_df = df.groupby('Day of Week').agg({'Order ID': 'count', 'Total (with VAT)': 'sum', \n",
    "                                            'Bolt Service Fee': 'sum'})\n",
    "grouped_df['Bolt commission per order'] = grouped_df['Bolt Service Fee'] / grouped_df['Order ID']\n",
    "\n",
    "grouped_df = grouped_df.reset_index()\n",
    "grouped_df = grouped_df.rename(columns={'Order ID': 'Count of Order ID', \n",
    "                                        'Total (with VAT)': 'Sum of Total (with VAT)', \n",
    "                                        'Bolt Service Fee': 'Sum of Bolt Service Fee'})\n",
    "\n",
    "grouped_df['Day of Week'] = pd.Categorical(grouped_df['Day of Week'], \n",
    "                                           categories=['Sunday', 'Monday', 'Tuesday', 'Wednesday', \n",
    "                                                       'Thursday', 'Friday', 'Saturday'], \n",
    "                                           ordered=True)\n",
    "grouped_df.sort_values('Day of Week', inplace=True)\n",
    "\n",
    "# Format the values with 2 decimal precision\n",
    "grouped_df['Sum of Total (with VAT)'] = grouped_df['Sum of Total (with VAT)'].map('€{:,.2f}'.format)\n",
    "grouped_df['Sum of Bolt Service Fee'] = grouped_df['Sum of Bolt Service Fee'].map('€{:,.2f}'.format)\n",
    "grouped_df['Bolt commission per order'] = grouped_df['Bolt commission per order'].map('€{:,.2f}'.format)\n",
    "\n",
    "print(grouped_df)"
   ]
  }
 ],
 "metadata": {
  "kernelspec": {
   "display_name": "Python 3 (ipykernel)",
   "language": "python",
   "name": "python3"
  },
  "language_info": {
   "codemirror_mode": {
    "name": "ipython",
    "version": 3
   },
   "file_extension": ".py",
   "mimetype": "text/x-python",
   "name": "python",
   "nbconvert_exporter": "python",
   "pygments_lexer": "ipython3",
   "version": "3.9.12"
  }
 },
 "nbformat": 4,
 "nbformat_minor": 5
}
